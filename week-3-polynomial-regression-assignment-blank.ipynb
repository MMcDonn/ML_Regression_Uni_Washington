{
 "cells": [
  {
   "cell_type": "markdown",
   "metadata": {},
   "source": [
    "# Regression Week 3: Assessing Fit (polynomial regression)"
   ]
  },
  {
   "cell_type": "markdown",
   "metadata": {},
   "source": [
    "In this notebook you will compare different regression models in order to assess which model fits best. We will be using polynomial regression as a means to examine this topic. In particular you will:\n",
    "* Write a function to take an SArray and a degree and return an SFrame where each column is the SArray to a polynomial value up to the total degree e.g. degree = 3 then column 1 is the SArray column 2 is the SArray squared and column 3 is the SArray cubed\n",
    "* Use matplotlib to visualize polynomial regressions\n",
    "* Use matplotlib to visualize the same polynomial degree on different subsets of the data\n",
    "* Use a validation set to select a polynomial degree\n",
    "* Assess the final fit using test data\n",
    "\n",
    "We will continue to use the House data from previous notebooks."
   ]
  },
  {
   "cell_type": "markdown",
   "metadata": {},
   "source": [
    "# Fire up graphlab create"
   ]
  },
  {
   "cell_type": "code",
   "execution_count": 1,
   "metadata": {
    "collapsed": true
   },
   "outputs": [],
   "source": [
    "import graphlab"
   ]
  },
  {
   "cell_type": "markdown",
   "metadata": {},
   "source": [
    "Next we're going to write a polynomial function that takes an SArray and a maximal degree and returns an SFrame with columns containing the SArray to all the powers up to the maximal degree.\n",
    "\n",
    "The easiest way to apply a power to an SArray is to use the .apply() and lambda x: functions. \n",
    "For example to take the example array and compute the third power we can do as follows: (note running this cell the first time may take longer than expected since it loads graphlab)"
   ]
  },
  {
   "cell_type": "code",
   "execution_count": 2,
   "metadata": {
    "collapsed": false
   },
   "outputs": [
    {
     "name": "stderr",
     "output_type": "stream",
     "text": [
      "[INFO] This non-commercial license of GraphLab Create is assigned to mmicha2@vt.edu and will expire on December 07, 2016. For commercial licensing options, visit https://dato.com/buy/.\n",
      "\n",
      "[INFO] Start server at: ipc:///tmp/graphlab_server-14124 - Server binary: C:\\Users\\McDonnell\\AppData\\Local\\Dato\\Dato Launcher\\lib\\site-packages\\graphlab\\unity_server.exe - Server log: C:\\Users\\MCDONN~1\\AppData\\Local\\Temp\\graphlab_server_1455134633.log.0\n",
      "[INFO] GraphLab Server Version: 1.8.1\n"
     ]
    },
    {
     "name": "stdout",
     "output_type": "stream",
     "text": [
      "[1.0, 2.0, 3.0]\n",
      "[1.0, 8.0, 27.0]\n"
     ]
    }
   ],
   "source": [
    "tmp = graphlab.SArray([1., 2., 3.])\n",
    "tmp_cubed = tmp.apply(lambda x: x**3)\n",
    "print tmp\n",
    "print tmp_cubed"
   ]
  },
  {
   "cell_type": "markdown",
   "metadata": {},
   "source": [
    "We can create an empty SFrame using graphlab.SFrame() and then add any columns to it with ex_sframe['column_name'] = value. For example we create an empty SFrame and make the column 'power_1' to be the first power of tmp (i.e. tmp itself)."
   ]
  },
  {
   "cell_type": "code",
   "execution_count": 3,
   "metadata": {
    "collapsed": false
   },
   "outputs": [
    {
     "name": "stdout",
     "output_type": "stream",
     "text": [
      "+---------+\n",
      "| power_1 |\n",
      "+---------+\n",
      "|   1.0   |\n",
      "|   2.0   |\n",
      "|   3.0   |\n",
      "+---------+\n",
      "[3 rows x 1 columns]\n",
      "\n"
     ]
    }
   ],
   "source": [
    "ex_sframe = graphlab.SFrame()\n",
    "ex_sframe['power_1'] = tmp\n",
    "print ex_sframe"
   ]
  },
  {
   "cell_type": "markdown",
   "metadata": {},
   "source": [
    "# Polynomial_sframe function"
   ]
  },
  {
   "cell_type": "markdown",
   "metadata": {},
   "source": [
    "Using the hints above complete the following function to create an SFrame consisting of the powers of an SArray up to a specific degree:"
   ]
  },
  {
   "cell_type": "code",
   "execution_count": 86,
   "metadata": {
    "collapsed": true
   },
   "outputs": [],
   "source": [
    "def polynomial_sframe(feature, degree):\n",
    "    # assume that degree >= 1\n",
    "    # initialize the SFrame:\n",
    "    poly_sframe = graphlab.SFrame()\n",
    "    # and set poly_sframe['power_1'] equal to the passed feature\n",
    "    poly_sframe['power_1'] = feature\n",
    "\n",
    "    # first check if degree > 1\n",
    "    if degree > 1:\n",
    "        # then loop over the remaining degrees:\n",
    "        # range usually starts at 0 and stops at the endpoint-1. We want it to start at 2 and stop at degree\n",
    "        for power in range(2, degree+1): \n",
    "            # first we'll give the column a name:\n",
    "            name = 'power_' + str(power)\n",
    "            # then assign poly_sframe[name] to the appropriate power of feature\n",
    "            poly_sframe[name] = feature.apply(lambda x:x**power)\n",
    "\n",
    "    return poly_sframe"
   ]
  },
  {
   "cell_type": "markdown",
   "metadata": {},
   "source": [
    "To test your function consider the smaller tmp variable and what you would expect the outcome of the following call:"
   ]
  },
  {
   "cell_type": "code",
   "execution_count": 87,
   "metadata": {
    "collapsed": false
   },
   "outputs": [
    {
     "name": "stdout",
     "output_type": "stream",
     "text": [
      "+---------+---------+---------+---------+\n",
      "| power_1 | power_2 | power_3 | power_4 |\n",
      "+---------+---------+---------+---------+\n",
      "|   1.0   |   1.0   |   1.0   |   1.0   |\n",
      "|   2.0   |   4.0   |   8.0   |   16.0  |\n",
      "|   3.0   |   9.0   |   27.0  |   81.0  |\n",
      "+---------+---------+---------+---------+\n",
      "[3 rows x 4 columns]\n",
      "\n"
     ]
    }
   ],
   "source": [
    "print polynomial_sframe(tmp, 4)"
   ]
  },
  {
   "cell_type": "markdown",
   "metadata": {},
   "source": [
    "# Visualizing polynomial regression"
   ]
  },
  {
   "cell_type": "markdown",
   "metadata": {},
   "source": [
    "Let's use matplotlib to visualize what a polynomial regression looks like on some real data."
   ]
  },
  {
   "cell_type": "code",
   "execution_count": 39,
   "metadata": {
    "collapsed": true
   },
   "outputs": [],
   "source": [
    "sales = graphlab.SFrame('kc_house_data.gl/')"
   ]
  },
  {
   "cell_type": "markdown",
   "metadata": {},
   "source": [
    "As in Week 3, we will use the sqft_living variable. For plotting purposes (connecting the dots), you'll need to sort by the values of sqft_living. For houses with identical square footage, we break the tie by their prices."
   ]
  },
  {
   "cell_type": "code",
   "execution_count": 64,
   "metadata": {
    "collapsed": false
   },
   "outputs": [
    {
     "data": {
      "text/plain": [
       "dtype: float\n",
       "Rows: 10\n",
       "[290.0, 370.0, 380.0, 384.0, 390.0, 390.0, 410.0, 420.0, 420.0, 430.0]"
      ]
     },
     "execution_count": 64,
     "metadata": {},
     "output_type": "execute_result"
    }
   ],
   "source": [
    "sales = sales.sort(['sqft_living', 'price'])\n",
    "sales['sqft_living'].head()"
   ]
  },
  {
   "cell_type": "markdown",
   "metadata": {},
   "source": [
    "Let's start with a degree 1 polynomial using 'sqft_living' (i.e. a line) to predict 'price' and plot what it looks like."
   ]
  },
  {
   "cell_type": "code",
   "execution_count": 104,
   "metadata": {
    "collapsed": false
   },
   "outputs": [
    {
     "data": {
      "text/html": [
       "<div style=\"max-height:1000px;max-width:1500px;overflow:auto;\"><table frame=\"box\" rules=\"cols\">\n",
       "    <tr>\n",
       "        <th style=\"padding-left: 1em; padding-right: 1em; text-align: center\">power_1</th>\n",
       "        <th style=\"padding-left: 1em; padding-right: 1em; text-align: center\">price</th>\n",
       "    </tr>\n",
       "    <tr>\n",
       "        <td style=\"padding-left: 1em; padding-right: 1em; text-align: center; vertical-align: top\">290.0</td>\n",
       "        <td style=\"padding-left: 1em; padding-right: 1em; text-align: center; vertical-align: top\">142000.0</td>\n",
       "    </tr>\n",
       "    <tr>\n",
       "        <td style=\"padding-left: 1em; padding-right: 1em; text-align: center; vertical-align: top\">370.0</td>\n",
       "        <td style=\"padding-left: 1em; padding-right: 1em; text-align: center; vertical-align: top\">276000.0</td>\n",
       "    </tr>\n",
       "    <tr>\n",
       "        <td style=\"padding-left: 1em; padding-right: 1em; text-align: center; vertical-align: top\">380.0</td>\n",
       "        <td style=\"padding-left: 1em; padding-right: 1em; text-align: center; vertical-align: top\">245000.0</td>\n",
       "    </tr>\n",
       "    <tr>\n",
       "        <td style=\"padding-left: 1em; padding-right: 1em; text-align: center; vertical-align: top\">384.0</td>\n",
       "        <td style=\"padding-left: 1em; padding-right: 1em; text-align: center; vertical-align: top\">265000.0</td>\n",
       "    </tr>\n",
       "    <tr>\n",
       "        <td style=\"padding-left: 1em; padding-right: 1em; text-align: center; vertical-align: top\">390.0</td>\n",
       "        <td style=\"padding-left: 1em; padding-right: 1em; text-align: center; vertical-align: top\">228000.0</td>\n",
       "    </tr>\n",
       "    <tr>\n",
       "        <td style=\"padding-left: 1em; padding-right: 1em; text-align: center; vertical-align: top\">390.0</td>\n",
       "        <td style=\"padding-left: 1em; padding-right: 1em; text-align: center; vertical-align: top\">245000.0</td>\n",
       "    </tr>\n",
       "    <tr>\n",
       "        <td style=\"padding-left: 1em; padding-right: 1em; text-align: center; vertical-align: top\">410.0</td>\n",
       "        <td style=\"padding-left: 1em; padding-right: 1em; text-align: center; vertical-align: top\">325000.0</td>\n",
       "    </tr>\n",
       "    <tr>\n",
       "        <td style=\"padding-left: 1em; padding-right: 1em; text-align: center; vertical-align: top\">420.0</td>\n",
       "        <td style=\"padding-left: 1em; padding-right: 1em; text-align: center; vertical-align: top\">229050.0</td>\n",
       "    </tr>\n",
       "    <tr>\n",
       "        <td style=\"padding-left: 1em; padding-right: 1em; text-align: center; vertical-align: top\">420.0</td>\n",
       "        <td style=\"padding-left: 1em; padding-right: 1em; text-align: center; vertical-align: top\">280000.0</td>\n",
       "    </tr>\n",
       "    <tr>\n",
       "        <td style=\"padding-left: 1em; padding-right: 1em; text-align: center; vertical-align: top\">430.0</td>\n",
       "        <td style=\"padding-left: 1em; padding-right: 1em; text-align: center; vertical-align: top\">80000.0</td>\n",
       "    </tr>\n",
       "</table>\n",
       "[10 rows x 2 columns]<br/>\n",
       "</div>"
      ],
      "text/plain": [
       "Columns:\n",
       "\tpower_1\tfloat\n",
       "\tprice\tfloat\n",
       "\n",
       "Rows: 10\n",
       "\n",
       "Data:\n",
       "+---------+----------+\n",
       "| power_1 |  price   |\n",
       "+---------+----------+\n",
       "|  290.0  | 142000.0 |\n",
       "|  370.0  | 276000.0 |\n",
       "|  380.0  | 245000.0 |\n",
       "|  384.0  | 265000.0 |\n",
       "|  390.0  | 228000.0 |\n",
       "|  390.0  | 245000.0 |\n",
       "|  410.0  | 325000.0 |\n",
       "|  420.0  | 229050.0 |\n",
       "|  420.0  | 280000.0 |\n",
       "|  430.0  | 80000.0  |\n",
       "+---------+----------+\n",
       "[10 rows x 2 columns]"
      ]
     },
     "execution_count": 104,
     "metadata": {},
     "output_type": "execute_result"
    }
   ],
   "source": [
    "poly1_data = polynomial_sframe(sales['sqft_living'], 1)\n",
    "poly1_data['price'] = sales['price'] # add price to the data since it's the target\n",
    "poly1_data.head()"
   ]
  },
  {
   "cell_type": "markdown",
   "metadata": {},
   "source": [
    "NOTE: for all the models in this notebook use validation_set = None to ensure that all results are consistent across users."
   ]
  },
  {
   "cell_type": "code",
   "execution_count": 107,
   "metadata": {
    "collapsed": false
   },
   "outputs": [
    {
     "name": "stdout",
     "output_type": "stream",
     "text": [
      "PROGRESS: Linear regression:\n",
      "PROGRESS: --------------------------------------------------------\n",
      "PROGRESS: Number of examples          : 21613\n",
      "PROGRESS: Number of features          : 1\n",
      "PROGRESS: Number of unpacked features : 1\n",
      "PROGRESS: Number of coefficients    : 2\n",
      "PROGRESS: Starting Newton Method\n",
      "PROGRESS: --------------------------------------------------------\n",
      "PROGRESS: +-----------+----------+--------------+--------------------+---------------+\n",
      "PROGRESS: | Iteration | Passes   | Elapsed Time | Training-max_error | Training-rmse |\n",
      "PROGRESS: +-----------+----------+--------------+--------------------+---------------+\n",
      "PROGRESS: | 1         | 2        | 1.019858     | 4362074.696077     | 261440.790724 |\n",
      "PROGRESS: +-----------+----------+--------------+--------------------+---------------+\n",
      "PROGRESS: SUCCESS: Optimal solution found.\n",
      "PROGRESS:\n"
     ]
    }
   ],
   "source": [
    "model1 = graphlab.linear_regression.create(poly1_data, target ='price', features=['power_1'], validation_set=None)"
   ]
  },
  {
   "cell_type": "code",
   "execution_count": 109,
   "metadata": {
    "collapsed": false
   },
   "outputs": [
    {
     "data": {
      "text/html": [
       "<div style=\"max-height:1000px;max-width:1500px;overflow:auto;\"><table frame=\"box\" rules=\"cols\">\n",
       "    <tr>\n",
       "        <th style=\"padding-left: 1em; padding-right: 1em; text-align: center\">name</th>\n",
       "        <th style=\"padding-left: 1em; padding-right: 1em; text-align: center\">index</th>\n",
       "        <th style=\"padding-left: 1em; padding-right: 1em; text-align: center\">value</th>\n",
       "        <th style=\"padding-left: 1em; padding-right: 1em; text-align: center\">stderr</th>\n",
       "    </tr>\n",
       "    <tr>\n",
       "        <td style=\"padding-left: 1em; padding-right: 1em; text-align: center; vertical-align: top\">(intercept)</td>\n",
       "        <td style=\"padding-left: 1em; padding-right: 1em; text-align: center; vertical-align: top\">None</td>\n",
       "        <td style=\"padding-left: 1em; padding-right: 1em; text-align: center; vertical-align: top\">-43579.0852515</td>\n",
       "        <td style=\"padding-left: 1em; padding-right: 1em; text-align: center; vertical-align: top\">4402.68969743</td>\n",
       "    </tr>\n",
       "    <tr>\n",
       "        <td style=\"padding-left: 1em; padding-right: 1em; text-align: center; vertical-align: top\">power_1</td>\n",
       "        <td style=\"padding-left: 1em; padding-right: 1em; text-align: center; vertical-align: top\">None</td>\n",
       "        <td style=\"padding-left: 1em; padding-right: 1em; text-align: center; vertical-align: top\">280.622770886</td>\n",
       "        <td style=\"padding-left: 1em; padding-right: 1em; text-align: center; vertical-align: top\">1.93639855513</td>\n",
       "    </tr>\n",
       "</table>\n",
       "[2 rows x 4 columns]<br/>\n",
       "</div>"
      ],
      "text/plain": [
       "Columns:\n",
       "\tname\tstr\n",
       "\tindex\tstr\n",
       "\tvalue\tfloat\n",
       "\tstderr\tfloat\n",
       "\n",
       "Rows: 2\n",
       "\n",
       "Data:\n",
       "+-------------+-------+----------------+---------------+\n",
       "|     name    | index |     value      |     stderr    |\n",
       "+-------------+-------+----------------+---------------+\n",
       "| (intercept) |  None | -43579.0852515 | 4402.68969743 |\n",
       "|   power_1   |  None | 280.622770886  | 1.93639855513 |\n",
       "+-------------+-------+----------------+---------------+\n",
       "[2 rows x 4 columns]"
      ]
     },
     "execution_count": 109,
     "metadata": {},
     "output_type": "execute_result"
    }
   ],
   "source": [
    "#let's take a look at the weights before we plot\n",
    "model1.get('coefficients')"
   ]
  },
  {
   "cell_type": "code",
   "execution_count": 113,
   "metadata": {
    "collapsed": false
   },
   "outputs": [],
   "source": [
    "import matplotlib.pyplot as plt\n",
    "%matplotlib inline"
   ]
  },
  {
   "cell_type": "code",
   "execution_count": 129,
   "metadata": {
    "collapsed": false
   },
   "outputs": [
    {
     "data": {
      "text/plain": [
       "[<matplotlib.lines.Line2D at 0x1f8b4860>,\n",
       " <matplotlib.lines.Line2D at 0x1f828b38>]"
      ]
     },
     "execution_count": 129,
     "metadata": {},
     "output_type": "execute_result"
    },
    {
     "data": {
      "image/png": "[encoded data removed]",
      "text/plain": [
       "<matplotlib.figure.Figure at 0x1f53d0b8>"
      ]
     },
     "metadata": {},
     "output_type": "display_data"
    }
   ],
   "source": [
    "plt.plot(poly1_data['power_1'],poly1_data['price'],'.',\n",
    "        poly1_data['power_1'], model1.predict(poly1_data),'-')"
   ]
  },
  {
   "cell_type": "markdown",
   "metadata": {},
   "source": [
    "Let's unpack that plt.plot() command. The first pair of SArrays we passed are the 1st power of sqft and the actual price we then ask it to print these as dots '.'. The next pair we pass is the 1st power of sqft and the predicted values from the linear model. We ask these to be plotted as a line '-'. \n",
    "\n",
    "We can see, not surprisingly, that the predicted values all fall on a line, specifically the one with slope 280 and intercept -43579. What if we wanted to plot a second degree polynomial?"
   ]
  },
  {
   "cell_type": "code",
   "execution_count": 136,
   "metadata": {
    "collapsed": false
   },
   "outputs": [
    {
     "name": "stdout",
     "output_type": "stream",
     "text": [
      "+---------+----------+----------+\n",
      "| power_1 | power_2  |  price   |\n",
      "+---------+----------+----------+\n",
      "|  290.0  | 84100.0  | 142000.0 |\n",
      "|  370.0  | 136900.0 | 276000.0 |\n",
      "|  380.0  | 144400.0 | 245000.0 |\n",
      "|  384.0  | 147456.0 | 265000.0 |\n",
      "|  390.0  | 152100.0 | 228000.0 |\n",
      "|  390.0  | 152100.0 | 245000.0 |\n",
      "|  410.0  | 168100.0 | 325000.0 |\n",
      "|  420.0  | 176400.0 | 229050.0 |\n",
      "|  420.0  | 176400.0 | 280000.0 |\n",
      "|  430.0  | 184900.0 | 80000.0  |\n",
      "+---------+----------+----------+\n",
      "[10 rows x 3 columns]\n",
      "\n",
      "PROGRESS: Linear regression:\n",
      "PROGRESS: --------------------------------------------------------\n",
      "PROGRESS: Number of examples          : 21613\n",
      "PROGRESS: Number of features          : 2\n",
      "PROGRESS: Number of unpacked features : 2\n",
      "PROGRESS: Number of coefficients    : 3\n",
      "PROGRESS: Starting Newton Method\n",
      "PROGRESS: --------------------------------------------------------\n",
      "PROGRESS: +-----------+----------+--------------+--------------------+---------------+\n",
      "PROGRESS: | Iteration | Passes   | Elapsed Time | Training-max_error | Training-rmse |\n",
      "PROGRESS: +-----------+----------+--------------+--------------------+---------------+\n",
      "PROGRESS: | 1         | 2        | 0.007505     | 5913020.984255     | 250948.368758 |\n",
      "PROGRESS: +-----------+----------+--------------+--------------------+---------------+\n",
      "PROGRESS: SUCCESS: Optimal solution found.\n",
      "PROGRESS:\n"
     ]
    }
   ],
   "source": [
    "poly2_data = polynomial_sframe(sales['sqft_living'], 2)\n",
    "my_features = poly2_data.column_names() # get the name of the features\n",
    "poly2_data['price'] = sales['price'] # add price to the data since it's the target\n",
    "print(poly2_data.head())\n",
    "model2 = graphlab.linear_regression.create(poly2_data, target='price', features=my_features, validation_set= None)"
   ]
  },
  {
   "cell_type": "code",
   "execution_count": 137,
   "metadata": {
    "collapsed": false
   },
   "outputs": [
    {
     "data": {
      "text/html": [
       "<div style=\"max-height:1000px;max-width:1500px;overflow:auto;\"><table frame=\"box\" rules=\"cols\">\n",
       "    <tr>\n",
       "        <th style=\"padding-left: 1em; padding-right: 1em; text-align: center\">name</th>\n",
       "        <th style=\"padding-left: 1em; padding-right: 1em; text-align: center\">index</th>\n",
       "        <th style=\"padding-left: 1em; padding-right: 1em; text-align: center\">value</th>\n",
       "        <th style=\"padding-left: 1em; padding-right: 1em; text-align: center\">stderr</th>\n",
       "    </tr>\n",
       "    <tr>\n",
       "        <td style=\"padding-left: 1em; padding-right: 1em; text-align: center; vertical-align: top\">(intercept)</td>\n",
       "        <td style=\"padding-left: 1em; padding-right: 1em; text-align: center; vertical-align: top\">None</td>\n",
       "        <td style=\"padding-left: 1em; padding-right: 1em; text-align: center; vertical-align: top\">199222.496445</td>\n",
       "        <td style=\"padding-left: 1em; padding-right: 1em; text-align: center; vertical-align: top\">7058.00483552</td>\n",
       "    </tr>\n",
       "    <tr>\n",
       "        <td style=\"padding-left: 1em; padding-right: 1em; text-align: center; vertical-align: top\">power_1</td>\n",
       "        <td style=\"padding-left: 1em; padding-right: 1em; text-align: center; vertical-align: top\">None</td>\n",
       "        <td style=\"padding-left: 1em; padding-right: 1em; text-align: center; vertical-align: top\">67.9940640677</td>\n",
       "        <td style=\"padding-left: 1em; padding-right: 1em; text-align: center; vertical-align: top\">5.28787201316</td>\n",
       "    </tr>\n",
       "    <tr>\n",
       "        <td style=\"padding-left: 1em; padding-right: 1em; text-align: center; vertical-align: top\">power_2</td>\n",
       "        <td style=\"padding-left: 1em; padding-right: 1em; text-align: center; vertical-align: top\">None</td>\n",
       "        <td style=\"padding-left: 1em; padding-right: 1em; text-align: center; vertical-align: top\">0.0385812312789</td>\n",
       "        <td style=\"padding-left: 1em; padding-right: 1em; text-align: center; vertical-align: top\">0.000898246547032</td>\n",
       "    </tr>\n",
       "</table>\n",
       "[3 rows x 4 columns]<br/>\n",
       "</div>"
      ],
      "text/plain": [
       "Columns:\n",
       "\tname\tstr\n",
       "\tindex\tstr\n",
       "\tvalue\tfloat\n",
       "\tstderr\tfloat\n",
       "\n",
       "Rows: 3\n",
       "\n",
       "Data:\n",
       "+-------------+-------+-----------------+-------------------+\n",
       "|     name    | index |      value      |       stderr      |\n",
       "+-------------+-------+-----------------+-------------------+\n",
       "| (intercept) |  None |  199222.496445  |   7058.00483552   |\n",
       "|   power_1   |  None |  67.9940640677  |   5.28787201316   |\n",
       "|   power_2   |  None | 0.0385812312789 | 0.000898246547032 |\n",
       "+-------------+-------+-----------------+-------------------+\n",
       "[3 rows x 4 columns]"
      ]
     },
     "execution_count": 137,
     "metadata": {},
     "output_type": "execute_result"
    }
   ],
   "source": [
    "model2.get(\"coefficients\")"
   ]
  },
  {
   "cell_type": "code",
   "execution_count": 143,
   "metadata": {
    "collapsed": false
   },
   "outputs": [
    {
     "data": {
      "text/plain": [
       "[<matplotlib.lines.Line2D at 0x20c2a780>,\n",
       " <matplotlib.lines.Line2D at 0x20f805c0>]"
      ]
     },
     "execution_count": 143,
     "metadata": {},
     "output_type": "execute_result"
    },
    {
     "data": {
      "image/png": "[encoded data removed]",
      "text/plain": [
       "<matplotlib.figure.Figure at 0x20a2d278>"
      ]
     },
     "metadata": {},
     "output_type": "display_data"
    }
   ],
   "source": [
    "plt.plot(poly2_data['power_1'], poly2_data['price'],'.',\n",
    "        poly2_data['power_1'], model2.predict(poly2_data),'-')\n"
   ]
  },
  {
   "cell_type": "markdown",
   "metadata": {},
   "source": [
    "The resulting model looks like half a parabola. Try on your own to see what the cubic looks like:"
   ]
  },
  {
   "cell_type": "code",
   "execution_count": 155,
   "metadata": {
    "collapsed": false
   },
   "outputs": [
    {
     "name": "stdout",
     "output_type": "stream",
     "text": [
      "PROGRESS: Linear regression:\n",
      "PROGRESS: --------------------------------------------------------\n",
      "PROGRESS: Number of examples          : 21613\n",
      "PROGRESS: Number of features          : 3\n",
      "PROGRESS: Number of unpacked features : 3\n",
      "PROGRESS: Number of coefficients    : 4\n",
      "PROGRESS: Starting Newton Method\n",
      "PROGRESS: --------------------------------------------------------\n",
      "PROGRESS: +-----------+----------+--------------+--------------------+---------------+\n",
      "PROGRESS: | Iteration | Passes   | Elapsed Time | Training-max_error | Training-rmse |\n",
      "PROGRESS: +-----------+----------+--------------+--------------------+---------------+\n",
      "PROGRESS: | 1         | 2        | 0.007508     | 3261066.736007     | 249261.286346 |\n",
      "PROGRESS: +-----------+----------+--------------+--------------------+---------------+\n",
      "PROGRESS: SUCCESS: Optimal solution found.\n",
      "PROGRESS:\n"
     ]
    }
   ],
   "source": [
    "poly3_data = polynomial_sframe(sales['sqft_living'],3)\n",
    "my_features = poly3_data.column_names()\n",
    "poly3_data['price'] = sales['price']\n",
    "model3 = graphlab.linear_regression.create(poly3_data, target = 'price', features = my_features, validation_set=None)"
   ]
  },
  {
   "cell_type": "code",
   "execution_count": 160,
   "metadata": {
    "collapsed": false
   },
   "outputs": [
    {
     "data": {
      "text/plain": [
       "[<matplotlib.lines.Line2D at 0x21defcc0>,\n",
       " <matplotlib.lines.Line2D at 0x21deff28>]"
      ]
     },
     "execution_count": 160,
     "metadata": {},
     "output_type": "execute_result"
    },
    {
     "data": {
      "image/png": "[encoded data removed]",
      "text/plain": [
       "<matplotlib.figure.Figure at 0x21a4f9b0>"
      ]
     },
     "metadata": {},
     "output_type": "display_data"
    }
   ],
   "source": [
    "plt.plot(poly3_data['power_1'], poly3_data['price'], '.',\n",
    "        poly3_data['power_1'], model3.predict(poly3_data), '-')"
   ]
  },
  {
   "cell_type": "markdown",
   "metadata": {},
   "source": [
    "Now try a 15th degree polynomial:"
   ]
  },
  {
   "cell_type": "code",
   "execution_count": 167,
   "metadata": {
    "collapsed": false
   },
   "outputs": [
    {
     "name": "stdout",
     "output_type": "stream",
     "text": [
      "PROGRESS: Linear regression:\n",
      "PROGRESS: --------------------------------------------------------\n",
      "PROGRESS: Number of examples          : 21613\n",
      "PROGRESS: Number of features          : 15\n",
      "PROGRESS: Number of unpacked features : 15\n",
      "PROGRESS: Number of coefficients    : 16\n",
      "PROGRESS: Starting Newton Method\n",
      "PROGRESS: --------------------------------------------------------\n",
      "PROGRESS: +-----------+----------+--------------+--------------------+---------------+\n",
      "PROGRESS: | Iteration | Passes   | Elapsed Time | Training-max_error | Training-rmse |\n",
      "PROGRESS: +-----------+----------+--------------+--------------------+---------------+\n",
      "PROGRESS: | 1         | 2        | 0.019512     | 2662308.584338     | 245690.511190 |\n",
      "PROGRESS: +-----------+----------+--------------+--------------------+---------------+\n",
      "PROGRESS: SUCCESS: Optimal solution found.\n",
      "PROGRESS:\n"
     ]
    }
   ],
   "source": [
    "poly15_data = polynomial_sframe(sales['sqft_living'], 15)\n",
    "my_features = poly15_data.column_names()\n",
    "poly15_data['price'] = sales['price']\n",
    "model15 = graphlab.linear_regression.create(poly15_data, target='price', features=my_features, validation_set=None)"
   ]
  },
  {
   "cell_type": "code",
   "execution_count": 178,
   "metadata": {
    "collapsed": false
   },
   "outputs": [
    {
     "data": {
      "text/plain": [
       "[<matplotlib.lines.Line2D at 0x23a002b0>,\n",
       " <matplotlib.lines.Line2D at 0x23a004a8>]"
      ]
     },
     "execution_count": 178,
     "metadata": {},
     "output_type": "execute_result"
    },
    {
     "data": {
      "image/png": "[encoded data removed]",
      "text/plain": [
       "<matplotlib.figure.Figure at 0x23296fd0>"
      ]
     },
     "metadata": {},
     "output_type": "display_data"
    }
   ],
   "source": [
    "plt.plot(poly15_data['power_1'], poly15_data['price'], '.',\n",
    "        poly15_data['power_1'], model15.predict(poly15_data), '-')"
   ]
  },
  {
   "cell_type": "markdown",
   "metadata": {},
   "source": [
    "What do you think of the 15th degree polynomial? Do you think this is appropriate? If we were to change the data do you think you'd get pretty much the same curve? Let's take a look."
   ]
  },
  {
   "cell_type": "markdown",
   "metadata": {},
   "source": [
    "# Changing the data and re-learning"
   ]
  },
  {
   "cell_type": "markdown",
   "metadata": {},
   "source": [
    "We're going to split the sales data into four subsets of roughly equal size. Then you will estimate a 15th degree polynomial model on all four subsets of the data. Print the coefficients (you should use .print_rows(num_rows = 16) to view all of them) and plot the resulting fit (as we did above). The quiz will ask you some questions about these results.\n",
    "\n",
    "To split the sales data into four subsets, we perform the following steps:\n",
    "* First split sales into 2 subsets with `.random_split(0.5, seed=0)`. \n",
    "* Next split the resulting subsets into 2 more subsets each. Use `.random_split(0.5, seed=0)`.\n",
    "\n",
    "We set `seed=0` in these steps so that different users get consistent results.\n",
    "You should end up with 4 subsets (`set_1`, `set_2`, `set_3`, `set_4`) of approximately equal size. "
   ]
  },
  {
   "cell_type": "code",
   "execution_count": 184,
   "metadata": {
    "collapsed": false
   },
   "outputs": [],
   "source": [
    "set_1, set_2 = sales.random_split(0.5, seed=0)\n",
    "set_1, set_3 = set_1.random_split(0.5, seed = 0)\n",
    "set_2, set_4 = set_2.random_split(0.5, seed = 0)"
   ]
  },
  {
   "cell_type": "markdown",
   "metadata": {},
   "source": [
    "Fit a 15th degree polynomial on set_1, set_2, set_3, and set_4 using sqft_living to predict prices. Print the coefficients and make a plot of the resulting model."
   ]
  },
  {
   "cell_type": "code",
   "execution_count": 198,
   "metadata": {
    "collapsed": false
   },
   "outputs": [
    {
     "name": "stdout",
     "output_type": "stream",
     "text": [
      "PROGRESS: Linear regression:\n",
      "PROGRESS: --------------------------------------------------------\n",
      "PROGRESS: Number of examples          : 5404\n",
      "PROGRESS: Number of features          : 15\n",
      "PROGRESS: Number of unpacked features : 15\n",
      "PROGRESS: Number of coefficients    : 16\n",
      "PROGRESS: Starting Newton Method\n",
      "PROGRESS: --------------------------------------------------------\n",
      "PROGRESS: +-----------+----------+--------------+--------------------+---------------+\n",
      "PROGRESS: | Iteration | Passes   | Elapsed Time | Training-max_error | Training-rmse |\n",
      "PROGRESS: +-----------+----------+--------------+--------------------+---------------+\n",
      "PROGRESS: | 1         | 2        | 0.008506     | 2195218.932304     | 248858.822200 |\n",
      "PROGRESS: +-----------+----------+--------------+--------------------+---------------+\n",
      "PROGRESS: SUCCESS: Optimal solution found.\n",
      "PROGRESS:\n",
      "+-------------+-------+--------------------+-------------------+\n",
      "|     name    | index |       value        |       stderr      |\n",
      "+-------------+-------+--------------------+-------------------+\n",
      "| (intercept) |  None |   223312.750249    |   835599.663129   |\n",
      "|   power_1   |  None |   118.086127587    |   3486.76167789   |\n",
      "|   power_2   |  None |  -0.0473482011345  |   5.85700993834   |\n",
      "|   power_3   |  None |  3.2531034247e-05  |  0.00510891365748 |\n",
      "|   power_4   |  None | -3.32372152563e-09 | 2.39840457452e-06 |\n",
      "|   power_5   |  None | -9.75830457749e-14 |  3.4383369873e-10 |\n",
      "|   power_6   |  None | 1.15440303427e-17  |        nan        |\n",
      "|   power_7   |  None | 1.05145869404e-21  |        nan        |\n",
      "|   power_8   |  None | 3.46049616534e-26  |        nan        |\n",
      "|   power_9   |  None | -1.0965445417e-30  | 3.72369281471e-25 |\n",
      "|   power_10  |  None | -2.42031812013e-34 |        nan        |\n",
      "|   power_11  |  None | -1.99601206822e-38 |        nan        |\n",
      "|   power_12  |  None | -1.0770990383e-42  |        nan        |\n",
      "|   power_13  |  None | -2.72862818005e-47 |        nan        |\n",
      "|   power_14  |  None | 2.44782693056e-51  |        nan        |\n",
      "|   power_15  |  None | 5.01975232909e-55  |        nan        |\n",
      "+-------------+-------+--------------------+-------------------+\n",
      "[16 rows x 4 columns]\n",
      "\n"
     ]
    },
    {
     "data": {
      "text/plain": [
       "[<matplotlib.lines.Line2D at 0x244bedd8>,\n",
       " <matplotlib.lines.Line2D at 0x244cd048>]"
      ]
     },
     "execution_count": 198,
     "metadata": {},
     "output_type": "execute_result"
    },
    {
     "data": {
      "image/png": "[encoded data removed]",
      "text/plain": [
       "<matplotlib.figure.Figure at 0x21defe10>"
      ]
     },
     "metadata": {},
     "output_type": "display_data"
    }
   ],
   "source": [
    "set_1_poly_data = polynomial_sframe(set_1['sqft_living'],15)\n",
    "my_features = set_1_poly_data.column_names()\n",
    "set_1_poly_data['price'] = set_1['price']\n",
    "model15_set_1 = graphlab.linear_regression.create(set_1_poly_data, target='price', features=my_features, validation_set=None)\n",
    "model15_set_1.get('coefficients').print_rows(num_rows=16)\n",
    "\n",
    "plt.plot(set_1_poly_data['power_1'], set_1_poly_data['price'], '.',\n",
    "        set_1_poly_data['power_1'], model15_set_1.predict(set_1_poly_data), '-')"
   ]
  },
  {
   "cell_type": "code",
   "execution_count": 199,
   "metadata": {
    "collapsed": false
   },
   "outputs": [
    {
     "name": "stdout",
     "output_type": "stream",
     "text": [
      "PROGRESS: Linear regression:\n",
      "PROGRESS: --------------------------------------------------------\n",
      "PROGRESS: Number of examples          : 5409\n",
      "PROGRESS: Number of features          : 15\n",
      "PROGRESS: Number of unpacked features : 15\n",
      "PROGRESS: Number of coefficients    : 16\n",
      "PROGRESS: Starting Newton Method\n",
      "PROGRESS: --------------------------------------------------------\n",
      "PROGRESS: +-----------+----------+--------------+--------------------+---------------+\n",
      "PROGRESS: | Iteration | Passes   | Elapsed Time | Training-max_error | Training-rmse |\n",
      "PROGRESS: +-----------+----------+--------------+--------------------+---------------+\n",
      "PROGRESS: | 1         | 2        | 0.009006     | 2269769.506521     | 251460.072754 |\n",
      "PROGRESS: +-----------+----------+--------------+--------------------+---------------+\n",
      "PROGRESS: SUCCESS: Optimal solution found.\n",
      "PROGRESS:\n",
      "+-------------+-------+--------------------+-------------------+\n",
      "|     name    | index |       value        |       stderr      |\n",
      "+-------------+-------+--------------------+-------------------+\n",
      "| (intercept) |  None |   87317.9795547    |        nan        |\n",
      "|   power_1   |  None |   356.304911045    |        nan        |\n",
      "|   power_2   |  None |  -0.164817442809   |        nan        |\n",
      "|   power_3   |  None | 4.40424992697e-05  |        nan        |\n",
      "|   power_4   |  None | 6.48234876179e-10  |        nan        |\n",
      "|   power_5   |  None | -6.75253226587e-13 |        nan        |\n",
      "|   power_6   |  None | -3.36842592661e-17 |        nan        |\n",
      "|   power_7   |  None | 3.60999704242e-21  |        nan        |\n",
      "|   power_8   |  None | 6.46999725625e-25  |        nan        |\n",
      "|   power_9   |  None | 4.23639388865e-29  |        nan        |\n",
      "|   power_10  |  None | -3.62149427043e-34 |        nan        |\n",
      "|   power_11  |  None | -4.27119527274e-37 |        nan        |\n",
      "|   power_12  |  None | -5.61445971705e-41 | 3.22504679661e-36 |\n",
      "|   power_13  |  None | -3.87452772861e-45 | 3.81940189807e-40 |\n",
      "|   power_14  |  None | 4.69430359483e-50  | 1.00042633659e-44 |\n",
      "|   power_15  |  None | 6.39045885992e-53  |        nan        |\n",
      "+-------------+-------+--------------------+-------------------+\n",
      "[16 rows x 4 columns]\n",
      "\n"
     ]
    },
    {
     "data": {
      "text/plain": [
       "[<matplotlib.lines.Line2D at 0x2470ae48>,\n",
       " <matplotlib.lines.Line2D at 0x2470aeb8>]"
      ]
     },
     "execution_count": 199,
     "metadata": {},
     "output_type": "execute_result"
    },
    {
     "data": {
      "image/png": "[encoded data removed]",
      "text/plain": [
       "<matplotlib.figure.Figure at 0x243bd9e8>"
      ]
     },
     "metadata": {},
     "output_type": "display_data"
    }
   ],
   "source": [
    "set_2_poly_data = polynomial_sframe(set_2['sqft_living'],15)\n",
    "my_features = set_2_poly_data.column_names()\n",
    "set_2_poly_data['price'] = set_2['price']\n",
    "model15_set_2 = graphlab.linear_regression.create(set_2_poly_data, target='price', features=my_features, validation_set=None)\n",
    "model15_set_2.get('coefficients').print_rows(num_rows=16)\n",
    "\n",
    "plt.plot(set_2_poly_data['power_1'], set_2_poly_data['price'], '.',\n",
    "        set_2_poly_data['power_1'], model15_set_2.predict(set_2_poly_data), '-')"
   ]
  },
  {
   "cell_type": "code",
   "execution_count": 202,
   "metadata": {
    "collapsed": false
   },
   "outputs": [
    {
     "name": "stdout",
     "output_type": "stream",
     "text": [
      "PROGRESS: Linear regression:\n",
      "PROGRESS: --------------------------------------------------------\n",
      "PROGRESS: Number of examples          : 5398\n",
      "PROGRESS: Number of features          : 15\n",
      "PROGRESS: Number of unpacked features : 15\n",
      "PROGRESS: Number of coefficients    : 16\n",
      "PROGRESS: Starting Newton Method\n",
      "PROGRESS: --------------------------------------------------------\n",
      "PROGRESS: +-----------+----------+--------------+--------------------+---------------+\n",
      "PROGRESS: | Iteration | Passes   | Elapsed Time | Training-max_error | Training-rmse |\n",
      "PROGRESS: +-----------+----------+--------------+--------------------+---------------+\n",
      "PROGRESS: | 1         | 2        | 0.007005     | 2069212.978547     | 234840.067186 |\n",
      "PROGRESS: +-----------+----------+--------------+--------------------+---------------+\n",
      "PROGRESS: SUCCESS: Optimal solution found.\n",
      "PROGRESS:\n",
      "+-------------+-------+--------------------+-------------------+\n",
      "|     name    | index |       value        |       stderr      |\n",
      "+-------------+-------+--------------------+-------------------+\n",
      "| (intercept) |  None |   89836.5077336    |    1677961.1901   |\n",
      "|   power_1   |  None |   319.806946762    |    9997.9019222   |\n",
      "|   power_2   |  None |  -0.103315397041   |   25.2922349935   |\n",
      "|   power_3   |  None | 1.06682476068e-05  |  0.0358798007061  |\n",
      "|   power_4   |  None | 5.75577097709e-09  | 3.18207878802e-05 |\n",
      "|   power_5   |  None | -2.54663464754e-13 |  1.8608338365e-08 |\n",
      "|   power_6   |  None | -1.09641345055e-16 | 7.35876527801e-12 |\n",
      "|   power_7   |  None | -6.36458441789e-21 | 1.97896850554e-15 |\n",
      "|   power_8   |  None | 5.52560416916e-25  | 3.56555717807e-19 |\n",
      "|   power_9   |  None | 1.35082038973e-28  | 3.98876030791e-23 |\n",
      "|   power_10  |  None | 1.18408188259e-32  |        nan        |\n",
      "|   power_11  |  None | 1.98348000471e-37  |        nan        |\n",
      "|   power_12  |  None | -9.92533590368e-41 |        nan        |\n",
      "|   power_13  |  None | -1.60834847057e-44 |  8.5064756305e-40 |\n",
      "|   power_14  |  None | -9.12006024271e-49 | 2.51954686947e-43 |\n",
      "|   power_15  |  None | 1.68636658332e-52  | 7.12456701345e-48 |\n",
      "+-------------+-------+--------------------+-------------------+\n",
      "[16 rows x 4 columns]\n",
      "\n"
     ]
    },
    {
     "data": {
      "text/plain": [
       "[<matplotlib.lines.Line2D at 0x2495c8d0>,\n",
       " <matplotlib.lines.Line2D at 0x2495cb00>]"
      ]
     },
     "execution_count": 202,
     "metadata": {},
     "output_type": "execute_result"
    },
    {
     "data": {
      "image/png": "[encoded data removed]",
      "text/plain": [
       "<matplotlib.figure.Figure at 0x24730748>"
      ]
     },
     "metadata": {},
     "output_type": "display_data"
    }
   ],
   "source": [
    "set_3_poly_data = polynomial_sframe(set_3['sqft_living'], 15)\n",
    "my_features = set_3_poly_data.column_names()\n",
    "set_3_poly_data['price'] = set_3['price']\n",
    "model15_set_3 = graphlab.linear_regression.create(set_3_poly_data, target='price', features=my_features, validation_set=None)\n",
    "\n",
    "model15_set_3.get('coefficients').print_rows(num_rows=16)\n",
    "plt.plot(set_3_poly_data['power_1'], set_3_poly_data['price'], '.',\n",
    "        set_3_poly_data['power_1'], model15_set_3.predict(set_3_poly_data), '-')"
   ]
  },
  {
   "cell_type": "code",
   "execution_count": 266,
   "metadata": {
    "collapsed": false
   },
   "outputs": [
    {
     "name": "stdout",
     "output_type": "stream",
     "text": [
      "PROGRESS: Linear regression:\n",
      "PROGRESS: --------------------------------------------------------\n",
      "PROGRESS: Number of examples          : 5402\n",
      "PROGRESS: Number of features          : 15\n",
      "PROGRESS: Number of unpacked features : 15\n",
      "PROGRESS: Number of coefficients    : 16\n",
      "PROGRESS: Starting Newton Method\n",
      "PROGRESS: --------------------------------------------------------\n",
      "PROGRESS: +-----------+----------+--------------+--------------------+---------------+\n",
      "PROGRESS: | Iteration | Passes   | Elapsed Time | Training-max_error | Training-rmse |\n",
      "PROGRESS: +-----------+----------+--------------+--------------------+---------------+\n",
      "PROGRESS: | 1         | 2        | 0.009506     | 2314893.173827     | 244563.136754 |\n",
      "PROGRESS: +-----------+----------+--------------+--------------------+---------------+\n",
      "PROGRESS: SUCCESS: Optimal solution found.\n",
      "PROGRESS:\n",
      "+-------------+-------+--------------------+-------------------+\n",
      "|     name    | index |       value        |       stderr      |\n",
      "+-------------+-------+--------------------+-------------------+\n",
      "| (intercept) |  None |   259020.879455    |   1418633.01576   |\n",
      "|   power_1   |  None |   -31.7277162089   |   8986.43219604   |\n",
      "|   power_2   |  None |   0.10970276962    |   23.6372627005   |\n",
      "|   power_3   |  None | -1.58383847342e-05 |  0.0340870703714  |\n",
      "|   power_4   |  None | -4.4766062378e-09  |  2.9922677913e-05 |\n",
      "|   power_5   |  None | 1.13976573483e-12  | 1.65942118384e-08 |\n",
      "|   power_6   |  None | 1.97669120543e-16  | 5.64257457465e-12 |\n",
      "|   power_7   |  None | -6.15783678625e-21 | 8.28262236121e-16 |\n",
      "|   power_8   |  None | -4.88012304078e-24 |        nan        |\n",
      "|   power_9   |  None | -6.62186781367e-28 |        nan        |\n",
      "|   power_10  |  None | -2.70631583096e-32 | 5.03468199063e-27 |\n",
      "|   power_11  |  None |  6.7237041138e-36  | 8.34356427948e-31 |\n",
      "|   power_12  |  None | 1.74115646277e-39  |        nan        |\n",
      "|   power_13  |  None | 2.09188375718e-43  |        nan        |\n",
      "|   power_14  |  None | 4.78015566127e-48  | 3.26026625058e-43 |\n",
      "|   power_15  |  None | -4.74535333103e-51 | 1.22114805265e-47 |\n",
      "+-------------+-------+--------------------+-------------------+\n",
      "[16 rows x 4 columns]\n",
      "\n"
     ]
    },
    {
     "data": {
      "text/plain": [
       "[<matplotlib.lines.Line2D at 0x24fbe668>,\n",
       " <matplotlib.lines.Line2D at 0x253ea320>]"
      ]
     },
     "execution_count": 266,
     "metadata": {},
     "output_type": "execute_result"
    },
    {
     "data": {
      "image/png": "[encoded data removed]",
      "text/plain": [
       "<matplotlib.figure.Figure at 0x24fbef98>"
      ]
     },
     "metadata": {},
     "output_type": "display_data"
    }
   ],
   "source": [
    "set_4_poly_data = polynomial_sframe(set_4['sqft_living'],15)\n",
    "my_features = set_4_poly_data.column_names()\n",
    "set_4_poly_data['price'] = set_4['price']\n",
    "model15_set_4 = graphlab.linear_regression.create(set_4_poly_data, target='price', features=my_features, validation_set=None)\n",
    "\n",
    "model15_set_4.get('coefficients').print_rows(num_rows=17)\n",
    "plt.plot(set_4_poly_data['power_1'], set_4_poly_data['price'], '.',\n",
    "        set_4_poly_data['power_1'], model15_set_4.predict(set_4_poly_data),'-')"
   ]
  },
  {
   "cell_type": "markdown",
   "metadata": {},
   "source": [
    "Some questions you will be asked on your quiz:\n",
    "\n",
    "**Quiz Question: Is the sign (positive or negative) for power_15 the same in all four models?**\n",
    "\n",
    "**Quiz Question: (True/False) the plotted fitted lines look the same in all four plots**"
   ]
  },
  {
   "cell_type": "markdown",
   "metadata": {},
   "source": [
    "# Selecting a Polynomial Degree"
   ]
  },
  {
   "cell_type": "markdown",
   "metadata": {},
   "source": [
    "Whenever we have a \"magic\" parameter like the degree of the polynomial there is one well-known way to select these parameters: validation set. (We will explore another approach in week 4).\n",
    "\n",
    "We split the sales dataset 3-way into training set, test set, and validation set as follows:\n",
    "\n",
    "* Split our sales data into 2 sets: `training_and_validation` and `testing`. Use `random_split(0.9, seed=1)`.\n",
    "* Further split our training data into two sets: `training` and `validation`. Use `random_split(0.5, seed=1)`.\n",
    "\n",
    "Again, we set `seed=1` to obtain consistent results for different users."
   ]
  },
  {
   "cell_type": "code",
   "execution_count": 311,
   "metadata": {
    "collapsed": false
   },
   "outputs": [],
   "source": [
    "training_and_validation, test = sales.random_split(0.9, seed = 1)\n",
    "training, validation = training_and_validation.random_split(0.5, seed=1)"
   ]
  },
  {
   "cell_type": "markdown",
   "metadata": {},
   "source": [
    "Next you should write a loop that does the following:\n",
    "* For degree in [1, 2, 3, 4, 5, 6, 7, 8, 9, 10, 11, 12, 13, 14, 15] (to get this in python type range(1, 15+1))\n",
    "    * Build an SFrame of polynomial data of train_data['sqft_living'] at the current degree\n",
    "    * hint: my_features = poly_data.column_names() gives you a list e.g. ['power_1', 'power_2', 'power_3'] which you might find useful for graphlab.linear_regression.create( features = my_features)\n",
    "    * Add train_data['price'] to the polynomial SFrame\n",
    "    * Learn a polynomial regression model to sqft vs price with that degree on TRAIN data\n",
    "    * Compute the RSS on VALIDATION data (here you will want to use .predict()) for that degree and you will need to make a polynmial SFrame using validation data.\n",
    "* Report which degree had the lowest RSS on validation data (remember python indexes from 0)\n",
    "\n",
    "(Note you can turn off the print out of linear_regression.create() with verbose = False)"
   ]
  },
  {
   "cell_type": "code",
   "execution_count": 341,
   "metadata": {
    "collapsed": false,
    "scrolled": true
   },
   "outputs": [],
   "source": [
    "r={}\n",
    "for power in range(1,15+1):\n",
    "    poly_data = polynomial_sframe(training['sqft_living'], power)\n",
    "    my_features = poly_data.column_names()\n",
    "    poly_data['price'] = training['price']\n",
    "    model = graphlab.linear_regression.create(poly_data, target='price', features=my_features,\n",
    "                                                               validation_set=None, verbose = False)\n",
    "    \n",
    "    validation_data = polynomial_sframe(validation['sqft_living'], power)\n",
    "    validation_data['price'] = validation['price']\n",
    "  \n",
    "    prediction = model.predict(validation_data)\n",
    "    residual = validation_data['price'] - prediction\n",
    "    RSS = (residual*residual).sum()\n",
    "    r[power] = RSS    "
   ]
  },
  {
   "cell_type": "markdown",
   "metadata": {},
   "source": [
    "**Quiz Question: Which degree (1, 2, …, 15) had the lowest RSS on Validation data?**"
   ]
  },
  {
   "cell_type": "code",
   "execution_count": 350,
   "metadata": {
    "collapsed": false
   },
   "outputs": [
    {
     "name": "stdout",
     "output_type": "stream",
     "text": [
      "5.89182477809e+14\n"
     ]
    }
   ],
   "source": [
    "min(r, key=r.get)\n",
    "print(r)[6]"
   ]
  },
  {
   "cell_type": "markdown",
   "metadata": {},
   "source": [
    "Now that you have chosen the degree of your polynomial using validation data, compute the RSS of this model on TEST data. Report the RSS on your quiz."
   ]
  },
  {
   "cell_type": "code",
   "execution_count": 2,
   "metadata": {
    "collapsed": false
   },
   "outputs": [
    {
     "ename": "NameError",
     "evalue": "name 'polynomial_sframe' is not defined",
     "output_type": "error",
     "traceback": [
      "\u001b[1;31m---------------------------------------------------------------------------\u001b[0m",
      "\u001b[1;31mNameError\u001b[0m                                 Traceback (most recent call last)",
      "\u001b[1;32m<ipython-input-2-f2aff111558c>\u001b[0m in \u001b[0;36m<module>\u001b[1;34m()\u001b[0m\n\u001b[0;32m      1\u001b[0m \u001b[0mpower\u001b[0m \u001b[1;33m=\u001b[0m \u001b[1;36m6\u001b[0m\u001b[1;33m\u001b[0m\u001b[0m\n\u001b[1;32m----> 2\u001b[1;33m \u001b[0mpoly_data\u001b[0m \u001b[1;33m=\u001b[0m \u001b[0mpolynomial_sframe\u001b[0m\u001b[1;33m(\u001b[0m\u001b[0mtraining\u001b[0m\u001b[1;33m[\u001b[0m\u001b[1;34m'sqft_living'\u001b[0m\u001b[1;33m]\u001b[0m\u001b[1;33m,\u001b[0m \u001b[0mpower\u001b[0m\u001b[1;33m)\u001b[0m\u001b[1;33m\u001b[0m\u001b[0m\n\u001b[0m\u001b[0;32m      3\u001b[0m \u001b[0mmy_features\u001b[0m \u001b[1;33m=\u001b[0m \u001b[0mpoly_data\u001b[0m\u001b[1;33m.\u001b[0m\u001b[0mcolumn_names\u001b[0m\u001b[1;33m(\u001b[0m\u001b[1;33m)\u001b[0m\u001b[1;33m\u001b[0m\u001b[0m\n\u001b[0;32m      4\u001b[0m \u001b[0mpoly_data\u001b[0m\u001b[1;33m[\u001b[0m\u001b[1;34m'price'\u001b[0m\u001b[1;33m]\u001b[0m \u001b[1;33m=\u001b[0m \u001b[0mtraining\u001b[0m\u001b[1;33m[\u001b[0m\u001b[1;34m'price'\u001b[0m\u001b[1;33m]\u001b[0m\u001b[1;33m\u001b[0m\u001b[0m\n\u001b[0;32m      5\u001b[0m model = graphlab.linear_regression.create(poly_data, target='price', features=my_features,\n",
      "\u001b[1;31mNameError\u001b[0m: name 'polynomial_sframe' is not defined"
     ]
    }
   ],
   "source": [
    "power = 6\n",
    "poly_data = polynomial_sframe(training['sqft_living'], power)\n",
    "my_features = poly_data.column_names()\n",
    "poly_data['price'] = training['price']\n",
    "model = graphlab.linear_regression.create(poly_data, target='price', features=my_features,\n",
    "                                                               validation_set=None, verbose = False)\n",
    "    \n",
    "test_data = polynomial_sframe(test['sqft_living'], power)\n",
    "test_data['price'] = test['price']\n",
    "  \n",
    "prediction = model.predict(test_data)\n",
    "residual = test_data['price'] - prediction\n",
    "RSS_test = (residual*residual).sum()"
   ]
  },
  {
   "cell_type": "markdown",
   "metadata": {},
   "source": [
    "**Quiz Question: what is the RSS on TEST data for the model with the degree selected from Validation data?**"
   ]
  },
  {
   "cell_type": "code",
   "execution_count": 3,
   "metadata": {
    "collapsed": false
   },
   "outputs": [
    {
     "ename": "NameError",
     "evalue": "name 'RSS_test' is not defined",
     "output_type": "error",
     "traceback": [
      "\u001b[1;31m---------------------------------------------------------------------------\u001b[0m",
      "\u001b[1;31mNameError\u001b[0m                                 Traceback (most recent call last)",
      "\u001b[1;32m<ipython-input-3-215b1b2944da>\u001b[0m in \u001b[0;36m<module>\u001b[1;34m()\u001b[0m\n\u001b[1;32m----> 1\u001b[1;33m \u001b[1;32mprint\u001b[0m\u001b[1;33m(\u001b[0m\u001b[0mRSS_test\u001b[0m\u001b[1;33m)\u001b[0m\u001b[1;33m\u001b[0m\u001b[0m\n\u001b[0m",
      "\u001b[1;31mNameError\u001b[0m: name 'RSS_test' is not defined"
     ]
    }
   ],
   "source": [
    "print(RSS_test)"
   ]
  },
  {
   "cell_type": "code",
   "execution_count": null,
   "metadata": {
    "collapsed": true
   },
   "outputs": [],
   "source": []
  }
 ],
 "metadata": {
  "kernelspec": {
   "display_name": "Python 2",
   "language": "python",
   "name": "python2"
  },
  "language_info": {
   "codemirror_mode": {
    "name": "ipython",
    "version": 2
   },
   "file_extension": ".py",
   "mimetype": "text/x-python",
   "name": "python",
   "nbconvert_exporter": "python",
   "pygments_lexer": "ipython2",
   "version": "2.7.10"
  }
 },
 "nbformat": 4,
 "nbformat_minor": 0
}
